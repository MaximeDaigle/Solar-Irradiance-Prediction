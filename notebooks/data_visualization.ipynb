{
 "cells": [
  {
   "cell_type": "code",
   "execution_count": 2,
   "metadata": {},
   "outputs": [],
   "source": [
    "import pathlib\n",
    "import matplotlib.pyplot as plt\n",
    "import pandas as pd\n",
    "import numpy as np\n",
    "import tensorflow as tf\n",
    "\n",
    "import cv2 as cv\n",
    "import h5py\n",
    "import lz4.frame\n",
    "import matplotlib.dates\n",
    "import matplotlib.pyplot as plt\n",
    "import numpy as np\n",
    "import pandas as pd\n",
    "import tensorflow as tf\n",
    "import tqdm\n",
    "\n",
    "import sys\n",
    "import os\n",
    "# Add the ptdraft folder path to the sys.path list\n",
    "sys.path.append('/home/ryan/projects/Solar-Irradiance-Prediction-team07')\n",
    "import utils.utils\n",
    "\n",
    "np.set_printoptions(precision=4)"
   ]
  },
  {
   "cell_type": "code",
   "execution_count": 4,
   "metadata": {},
   "outputs": [
    {
     "name": "stdout",
     "output_type": "stream",
     "text": [
      "<Attributes of HDF5 object at 140329074349648>\n"
     ]
    }
   ],
   "source": [
    "# hdf5_path = \"/project/cq-training-1/project1/data/16bit-2014.01.01.0800.h5\"\n",
    "hdf5_path = \"/home/ryan/data/16bit-2014.01.01.0800.h5\"\n",
    "\n",
    "hdf5_offset = 32  # this would correspond to: 2010.06.01.0800 + (32)*15min = 2010.06.01.1600\n",
    "with h5py.File(hdf5_path, \"r\") as h5_data:\n",
    "    global_start_idx = h5_data.attrs[\"global_dataframe_start_idx\"]\n",
    "    global_end_idx = h5_data.attrs[\"global_dataframe_end_idx\"]\n",
    "    archive_lut_size = global_end_idx - global_start_idx\n",
    "    global_start_time = datetime.datetime.strptime(\n",
    "        h5_data.attrs[\"global_dataframe_start_time\"], \"%Y.%m.%d.%H%M\")\n",
    "    lut_timestamps = [global_start_time + idx *\n",
    "                      datetime.timedelta(minutes=15) for idx in range(archive_lut_size)]"
   ]
  },
  {
   "cell_type": "code",
   "execution_count": 4,
   "metadata": {},
   "outputs": [],
   "source": [
    "target_channels = [\"ch1\", \"ch2\", \"ch3\", \"ch4\", \"ch5\"]\n",
    "dataframe_path = \"/home/ryan/data/catalog.helios.public.20100101-20160101.pkl\""
   ]
  },
  {
   "cell_type": "code",
   "execution_count": 5,
   "metadata": {},
   "outputs": [],
   "source": [
    "df = pd.read_pickle(dataframe_path) if dataframe_path else None"
   ]
  },
  {
   "cell_type": "code",
   "execution_count": 11,
   "metadata": {},
   "outputs": [
    {
     "name": "stdout",
     "output_type": "stream",
     "text": [
      "ncdf_path\n",
      "hdf5_8bit_path\n",
      "hdf5_8bit_offset\n",
      "hdf5_16bit_path\n",
      "hdf5_16bit_offset\n",
      "BND_DAYTIME\n",
      "BND_CLEARSKY_GHI\n",
      "BND_CLOUDINESS\n",
      "BND_GHI\n",
      "TBL_DAYTIME\n",
      "TBL_CLEARSKY_GHI\n",
      "TBL_CLOUDINESS\n",
      "TBL_GHI\n",
      "DRA_DAYTIME\n",
      "DRA_CLEARSKY_GHI\n",
      "DRA_CLOUDINESS\n",
      "DRA_GHI\n",
      "FPK_DAYTIME\n",
      "FPK_CLEARSKY_GHI\n",
      "FPK_CLOUDINESS\n",
      "FPK_GHI\n",
      "GWN_DAYTIME\n",
      "GWN_CLEARSKY_GHI\n",
      "GWN_CLOUDINESS\n",
      "GWN_GHI\n",
      "PSU_DAYTIME\n",
      "PSU_CLEARSKY_GHI\n",
      "PSU_CLOUDINESS\n",
      "PSU_GHI\n",
      "SXF_DAYTIME\n",
      "SXF_CLEARSKY_GHI\n",
      "SXF_CLOUDINESS\n",
      "SXF_GHI\n"
     ]
    }
   ],
   "source": [
    "print(*df.columns.to_list(), sep=\"\\n\")"
   ]
  },
  {
   "cell_type": "code",
   "execution_count": 30,
   "metadata": {},
   "outputs": [],
   "source": [
    "df2=df[df.ncdf_path != 'nan']"
   ]
  },
  {
   "cell_type": "code",
   "execution_count": 49,
   "metadata": {},
   "outputs": [],
   "source": [
    "offsets = sorted(df2.hdf5_16bit_offset.unique())"
   ]
  },
  {
   "cell_type": "code",
   "execution_count": 53,
   "metadata": {},
   "outputs": [
    {
     "name": "stdout",
     "output_type": "stream",
     "text": [
      "[0, 1, 2, 3, 5, 6, 7, 8, 9, 10, 11, 12, 13, 14, 15, 17, 18, 19, 20, 21, 22, 23, 24, 25, 26, 27, 29, 30, 31, 32, 33, 34, 35, 36, 37, 38, 39, 41, 42, 43, 44, 45, 46, 47, 48, 49, 50, 51, 52, 53, 54, 55, 56, 57, 58, 59, 60, 61, 62, 63, 65, 66, 67, 68, 69, 70, 71, 72, 73, 74, 75, 77, 78, 79, 80, 81, 82, 83, 84, 85, 86, 87, 89, 90, 91, 92, 93, 94, 95]\n",
      "the len of offsets list: 89\n"
     ]
    }
   ],
   "source": [
    "print(offsets)\n",
    "print(\"The len of offsets list:\", len(offsets))"
   ]
  },
  {
   "cell_type": "code",
   "execution_count": 54,
   "metadata": {},
   "outputs": [
    {
     "data": {
      "text/html": [
       "<div>\n",
       "<style scoped>\n",
       "    .dataframe tbody tr th:only-of-type {\n",
       "        vertical-align: middle;\n",
       "    }\n",
       "\n",
       "    .dataframe tbody tr th {\n",
       "        vertical-align: top;\n",
       "    }\n",
       "\n",
       "    .dataframe thead th {\n",
       "        text-align: right;\n",
       "    }\n",
       "</style>\n",
       "<table border=\"1\" class=\"dataframe\">\n",
       "  <thead>\n",
       "    <tr style=\"text-align: right;\">\n",
       "      <th></th>\n",
       "      <th>ncdf_path</th>\n",
       "      <th>hdf5_8bit_path</th>\n",
       "      <th>hdf5_8bit_offset</th>\n",
       "      <th>hdf5_16bit_path</th>\n",
       "      <th>hdf5_16bit_offset</th>\n",
       "    </tr>\n",
       "    <tr>\n",
       "      <th>iso-datetime</th>\n",
       "      <th></th>\n",
       "      <th></th>\n",
       "      <th></th>\n",
       "      <th></th>\n",
       "      <th></th>\n",
       "    </tr>\n",
       "  </thead>\n",
       "  <tbody>\n",
       "    <tr>\n",
       "      <th>2010-04-14 19:00:00</th>\n",
       "      <td>/project/cq-training-1/project1/data/netcdf/GO...</td>\n",
       "      <td>/project/cq-training-1/project1/data/hdf5v7_8b...</td>\n",
       "      <td>44</td>\n",
       "      <td>/project/cq-training-1/project1/data/hdf5v5_16...</td>\n",
       "      <td>44</td>\n",
       "    </tr>\n",
       "    <tr>\n",
       "      <th>2010-04-14 19:15:00</th>\n",
       "      <td>/project/cq-training-1/project1/data/netcdf/GO...</td>\n",
       "      <td>/project/cq-training-1/project1/data/hdf5v7_8b...</td>\n",
       "      <td>45</td>\n",
       "      <td>/project/cq-training-1/project1/data/hdf5v5_16...</td>\n",
       "      <td>45</td>\n",
       "    </tr>\n",
       "    <tr>\n",
       "      <th>2010-04-14 19:45:00</th>\n",
       "      <td>/project/cq-training-1/project1/data/netcdf/GO...</td>\n",
       "      <td>/project/cq-training-1/project1/data/hdf5v7_8b...</td>\n",
       "      <td>47</td>\n",
       "      <td>/project/cq-training-1/project1/data/hdf5v5_16...</td>\n",
       "      <td>47</td>\n",
       "    </tr>\n",
       "    <tr>\n",
       "      <th>2010-04-14 20:00:00</th>\n",
       "      <td>/project/cq-training-1/project1/data/netcdf/GO...</td>\n",
       "      <td>/project/cq-training-1/project1/data/hdf5v7_8b...</td>\n",
       "      <td>48</td>\n",
       "      <td>/project/cq-training-1/project1/data/hdf5v5_16...</td>\n",
       "      <td>48</td>\n",
       "    </tr>\n",
       "    <tr>\n",
       "      <th>2010-04-14 20:15:00</th>\n",
       "      <td>/project/cq-training-1/project1/data/netcdf/GO...</td>\n",
       "      <td>/project/cq-training-1/project1/data/hdf5v7_8b...</td>\n",
       "      <td>49</td>\n",
       "      <td>/project/cq-training-1/project1/data/hdf5v5_16...</td>\n",
       "      <td>49</td>\n",
       "    </tr>\n",
       "    <tr>\n",
       "      <th>2010-04-14 20:30:00</th>\n",
       "      <td>/project/cq-training-1/project1/data/netcdf/GO...</td>\n",
       "      <td>/project/cq-training-1/project1/data/hdf5v7_8b...</td>\n",
       "      <td>50</td>\n",
       "      <td>/project/cq-training-1/project1/data/hdf5v5_16...</td>\n",
       "      <td>50</td>\n",
       "    </tr>\n",
       "    <tr>\n",
       "      <th>2010-04-14 20:45:00</th>\n",
       "      <td>/project/cq-training-1/project1/data/netcdf/GO...</td>\n",
       "      <td>/project/cq-training-1/project1/data/hdf5v7_8b...</td>\n",
       "      <td>51</td>\n",
       "      <td>/project/cq-training-1/project1/data/hdf5v5_16...</td>\n",
       "      <td>51</td>\n",
       "    </tr>\n",
       "    <tr>\n",
       "      <th>2010-04-14 21:15:00</th>\n",
       "      <td>/project/cq-training-1/project1/data/netcdf/GO...</td>\n",
       "      <td>/project/cq-training-1/project1/data/hdf5v7_8b...</td>\n",
       "      <td>53</td>\n",
       "      <td>/project/cq-training-1/project1/data/hdf5v5_16...</td>\n",
       "      <td>53</td>\n",
       "    </tr>\n",
       "    <tr>\n",
       "      <th>2010-04-14 21:30:00</th>\n",
       "      <td>/project/cq-training-1/project1/data/netcdf/GO...</td>\n",
       "      <td>/project/cq-training-1/project1/data/hdf5v7_8b...</td>\n",
       "      <td>54</td>\n",
       "      <td>/project/cq-training-1/project1/data/hdf5v5_16...</td>\n",
       "      <td>54</td>\n",
       "    </tr>\n",
       "    <tr>\n",
       "      <th>2010-04-14 21:45:00</th>\n",
       "      <td>/project/cq-training-1/project1/data/netcdf/GO...</td>\n",
       "      <td>/project/cq-training-1/project1/data/hdf5v7_8b...</td>\n",
       "      <td>55</td>\n",
       "      <td>/project/cq-training-1/project1/data/hdf5v5_16...</td>\n",
       "      <td>55</td>\n",
       "    </tr>\n",
       "  </tbody>\n",
       "</table>\n",
       "</div>"
      ],
      "text/plain": [
       "                                                             ncdf_path  \\\n",
       "iso-datetime                                                             \n",
       "2010-04-14 19:00:00  /project/cq-training-1/project1/data/netcdf/GO...   \n",
       "2010-04-14 19:15:00  /project/cq-training-1/project1/data/netcdf/GO...   \n",
       "2010-04-14 19:45:00  /project/cq-training-1/project1/data/netcdf/GO...   \n",
       "2010-04-14 20:00:00  /project/cq-training-1/project1/data/netcdf/GO...   \n",
       "2010-04-14 20:15:00  /project/cq-training-1/project1/data/netcdf/GO...   \n",
       "2010-04-14 20:30:00  /project/cq-training-1/project1/data/netcdf/GO...   \n",
       "2010-04-14 20:45:00  /project/cq-training-1/project1/data/netcdf/GO...   \n",
       "2010-04-14 21:15:00  /project/cq-training-1/project1/data/netcdf/GO...   \n",
       "2010-04-14 21:30:00  /project/cq-training-1/project1/data/netcdf/GO...   \n",
       "2010-04-14 21:45:00  /project/cq-training-1/project1/data/netcdf/GO...   \n",
       "\n",
       "                                                        hdf5_8bit_path  \\\n",
       "iso-datetime                                                             \n",
       "2010-04-14 19:00:00  /project/cq-training-1/project1/data/hdf5v7_8b...   \n",
       "2010-04-14 19:15:00  /project/cq-training-1/project1/data/hdf5v7_8b...   \n",
       "2010-04-14 19:45:00  /project/cq-training-1/project1/data/hdf5v7_8b...   \n",
       "2010-04-14 20:00:00  /project/cq-training-1/project1/data/hdf5v7_8b...   \n",
       "2010-04-14 20:15:00  /project/cq-training-1/project1/data/hdf5v7_8b...   \n",
       "2010-04-14 20:30:00  /project/cq-training-1/project1/data/hdf5v7_8b...   \n",
       "2010-04-14 20:45:00  /project/cq-training-1/project1/data/hdf5v7_8b...   \n",
       "2010-04-14 21:15:00  /project/cq-training-1/project1/data/hdf5v7_8b...   \n",
       "2010-04-14 21:30:00  /project/cq-training-1/project1/data/hdf5v7_8b...   \n",
       "2010-04-14 21:45:00  /project/cq-training-1/project1/data/hdf5v7_8b...   \n",
       "\n",
       "                    hdf5_8bit_offset  \\\n",
       "iso-datetime                           \n",
       "2010-04-14 19:00:00               44   \n",
       "2010-04-14 19:15:00               45   \n",
       "2010-04-14 19:45:00               47   \n",
       "2010-04-14 20:00:00               48   \n",
       "2010-04-14 20:15:00               49   \n",
       "2010-04-14 20:30:00               50   \n",
       "2010-04-14 20:45:00               51   \n",
       "2010-04-14 21:15:00               53   \n",
       "2010-04-14 21:30:00               54   \n",
       "2010-04-14 21:45:00               55   \n",
       "\n",
       "                                                       hdf5_16bit_path  \\\n",
       "iso-datetime                                                             \n",
       "2010-04-14 19:00:00  /project/cq-training-1/project1/data/hdf5v5_16...   \n",
       "2010-04-14 19:15:00  /project/cq-training-1/project1/data/hdf5v5_16...   \n",
       "2010-04-14 19:45:00  /project/cq-training-1/project1/data/hdf5v5_16...   \n",
       "2010-04-14 20:00:00  /project/cq-training-1/project1/data/hdf5v5_16...   \n",
       "2010-04-14 20:15:00  /project/cq-training-1/project1/data/hdf5v5_16...   \n",
       "2010-04-14 20:30:00  /project/cq-training-1/project1/data/hdf5v5_16...   \n",
       "2010-04-14 20:45:00  /project/cq-training-1/project1/data/hdf5v5_16...   \n",
       "2010-04-14 21:15:00  /project/cq-training-1/project1/data/hdf5v5_16...   \n",
       "2010-04-14 21:30:00  /project/cq-training-1/project1/data/hdf5v5_16...   \n",
       "2010-04-14 21:45:00  /project/cq-training-1/project1/data/hdf5v5_16...   \n",
       "\n",
       "                    hdf5_16bit_offset  \n",
       "iso-datetime                           \n",
       "2010-04-14 19:00:00                44  \n",
       "2010-04-14 19:15:00                45  \n",
       "2010-04-14 19:45:00                47  \n",
       "2010-04-14 20:00:00                48  \n",
       "2010-04-14 20:15:00                49  \n",
       "2010-04-14 20:30:00                50  \n",
       "2010-04-14 20:45:00                51  \n",
       "2010-04-14 21:15:00                53  \n",
       "2010-04-14 21:30:00                54  \n",
       "2010-04-14 21:45:00                55  "
      ]
     },
     "execution_count": 54,
     "metadata": {},
     "output_type": "execute_result"
    }
   ],
   "source": [
    "df2.head(10).iloc[:,:5]"
   ]
  },
  {
   "cell_type": "markdown",
   "metadata": {},
   "source": [
    "from datatime -> file -> offset -> get images -> samples -> batches...."
   ]
  },
  {
   "cell_type": "code",
   "execution_count": null,
   "metadata": {},
   "outputs": [],
   "source": []
  }
 ],
 "metadata": {
  "kernelspec": {
   "display_name": "Python 3",
   "language": "python",
   "name": "python3"
  },
  "language_info": {
   "codemirror_mode": {
    "name": "ipython",
    "version": 3
   },
   "file_extension": ".py",
   "mimetype": "text/x-python",
   "name": "python",
   "nbconvert_exporter": "python",
   "pygments_lexer": "ipython3",
   "version": "3.7.5"
  }
 },
 "nbformat": 4,
 "nbformat_minor": 4
}
