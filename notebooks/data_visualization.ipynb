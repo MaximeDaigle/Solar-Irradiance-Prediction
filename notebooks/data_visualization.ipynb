{
 "cells": [
  {
   "cell_type": "code",
   "execution_count": 1,
   "metadata": {},
   "outputs": [
    {
     "ename": "SyntaxError",
     "evalue": "invalid syntax (utils.py, line 712)",
     "output_type": "error",
     "traceback": [
      "Traceback \u001b[0;36m(most recent call last)\u001b[0m:\n",
      "  File \u001b[1;32m\"/home/ryan/projects/Solar-Irradiance-Prediction-team07/solar_env/lib/python3.7/site-packages/IPython/core/interactiveshell.py\"\u001b[0m, line \u001b[1;32m3319\u001b[0m, in \u001b[1;35mrun_code\u001b[0m\n    exec(code_obj, self.user_global_ns, self.user_ns)\n",
      "\u001b[0;36m  File \u001b[0;32m\"<ipython-input-1-5e52b575865a>\"\u001b[0;36m, line \u001b[0;32m21\u001b[0;36m, in \u001b[0;35m<module>\u001b[0;36m\u001b[0m\n\u001b[0;31m    import utils.utils\u001b[0m\n",
      "\u001b[0;36m  File \u001b[0;32m\"/home/ryan/projects/Solar-Irradiance-Prediction-team07/utils/utils.py\"\u001b[0;36m, line \u001b[0;32m712\u001b[0m\n\u001b[0;31m    for\u001b[0m\n\u001b[0m        ^\u001b[0m\n\u001b[0;31mSyntaxError\u001b[0m\u001b[0;31m:\u001b[0m invalid syntax\n"
     ]
    }
   ],
   "source": [
    "import pathlib\n",
    "import matplotlib.pyplot as plt\n",
    "import pandas as pd\n",
    "import numpy as np\n",
    "import tensorflow as tf\n",
    "\n",
    "import cv2 as cv\n",
    "import h5py\n",
    "import lz4.frame\n",
    "import matplotlib.dates\n",
    "import matplotlib.pyplot as plt\n",
    "import numpy as np\n",
    "import pandas as pd\n",
    "import tensorflow as tf\n",
    "import tqdm\n",
    "\n",
    "import sys\n",
    "import os\n",
    "# Add the ptdraft folder path to the sys.path list\n",
    "sys.path.append('/home/ryan/projects/Solar-Irradiance-Prediction-team07')\n",
    "import utils.utils\n",
    "\n",
    "np.set_printoptions(precision=4)"
   ]
  },
  {
   "cell_type": "code",
   "execution_count": 17,
   "metadata": {},
   "outputs": [
    {
     "name": "stdout",
     "output_type": "stream",
     "text": [
      "['BND_GHI', 'BND_GHI_LUT', 'DRA_GHI', 'DRA_GHI_LUT', 'FPK_GHI', 'FPK_GHI_LUT', 'GWN_GHI', 'GWN_GHI_LUT', 'PSU_GHI', 'PSU_GHI_LUT', 'SXF_GHI', 'SXF_GHI_LUT', 'TBL_GHI', 'TBL_GHI_LUT', 'ch1', 'ch1_LUT', 'ch2', 'ch2_LUT', 'ch3', 'ch3_LUT', 'ch4', 'ch4_LUT', 'ch6', 'ch6_LUT', 'lat', 'lat_LUT', 'lon', 'lon_LUT', 'ncdf_path', 'ncdf_path_LUT']\n",
      "(0, ('BND_GHI', <HDF5 dataset \"BND_GHI\": shape (96,), type \"<f8\">))\n",
      "(1, ('BND_GHI_LUT', <HDF5 dataset \"BND_GHI_LUT\": shape (96,), type \"<i4\">))\n",
      "(2, ('DRA_GHI', <HDF5 dataset \"DRA_GHI\": shape (96,), type \"<f8\">))\n",
      "(3, ('DRA_GHI_LUT', <HDF5 dataset \"DRA_GHI_LUT\": shape (96,), type \"<i4\">))\n",
      "(4, ('FPK_GHI', <HDF5 dataset \"FPK_GHI\": shape (96,), type \"<f8\">))\n",
      "(5, ('FPK_GHI_LUT', <HDF5 dataset \"FPK_GHI_LUT\": shape (96,), type \"<i4\">))\n",
      "(6, ('GWN_GHI', <HDF5 dataset \"GWN_GHI\": shape (96,), type \"<f8\">))\n",
      "(7, ('GWN_GHI_LUT', <HDF5 dataset \"GWN_GHI_LUT\": shape (96,), type \"<i4\">))\n",
      "(8, ('PSU_GHI', <HDF5 dataset \"PSU_GHI\": shape (96,), type \"<f8\">))\n",
      "(9, ('PSU_GHI_LUT', <HDF5 dataset \"PSU_GHI_LUT\": shape (96,), type \"<i4\">))\n",
      "(10, ('SXF_GHI', <HDF5 dataset \"SXF_GHI\": shape (96,), type \"<f8\">))\n",
      "(11, ('SXF_GHI_LUT', <HDF5 dataset \"SXF_GHI_LUT\": shape (96,), type \"<i4\">))\n",
      "(12, ('TBL_GHI', <HDF5 dataset \"TBL_GHI\": shape (96,), type \"<f8\">))\n",
      "(13, ('TBL_GHI_LUT', <HDF5 dataset \"TBL_GHI_LUT\": shape (96,), type \"<i4\">))\n",
      "(14, ('ch1', <HDF5 dataset \"ch1\": shape (85,), type \"|O\">))\n",
      "(15, ('ch1_LUT', <HDF5 dataset \"ch1_LUT\": shape (96,), type \"<i4\">))\n",
      "(16, ('ch2', <HDF5 dataset \"ch2\": shape (85,), type \"|O\">))\n",
      "(17, ('ch2_LUT', <HDF5 dataset \"ch2_LUT\": shape (96,), type \"<i4\">))\n",
      "(18, ('ch3', <HDF5 dataset \"ch3\": shape (85,), type \"|O\">))\n",
      "(19, ('ch3_LUT', <HDF5 dataset \"ch3_LUT\": shape (96,), type \"<i4\">))\n",
      "(20, ('ch4', <HDF5 dataset \"ch4\": shape (85,), type \"|O\">))\n",
      "(21, ('ch4_LUT', <HDF5 dataset \"ch4_LUT\": shape (96,), type \"<i4\">))\n",
      "(22, ('ch6', <HDF5 dataset \"ch6\": shape (85,), type \"|O\">))\n",
      "(23, ('ch6_LUT', <HDF5 dataset \"ch6_LUT\": shape (96,), type \"<i4\">))\n",
      "(24, ('lat', <HDF5 dataset \"lat\": shape (85,), type \"|O\">))\n",
      "(25, ('lat_LUT', <HDF5 dataset \"lat_LUT\": shape (96,), type \"<i4\">))\n",
      "(26, ('lon', <HDF5 dataset \"lon\": shape (85,), type \"|O\">))\n",
      "(27, ('lon_LUT', <HDF5 dataset \"lon_LUT\": shape (96,), type \"<i4\">))\n",
      "(28, ('ncdf_path', <HDF5 dataset \"ncdf_path\": shape (85,), type \"|O\">))\n",
      "(29, ('ncdf_path_LUT', <HDF5 dataset \"ncdf_path_LUT\": shape (96,), type \"<i4\">))\n",
      "[-3.32   -3.3667 -3.3467 -3.4267 -3.52   -3.5267 -3.5333 -3.5133 -3.3867\n",
      " -3.4067 -3.2733 -3.2933 -3.2867 -3.2933 -3.2467 -3.2333 -3.3133 -3.24\n",
      " -3.1867 -3.1867 -3.1267 -0.2867  5.2867 11.8467 20.6467 27.98   41.0267\n",
      " 55.1    75.3933 84.8333]\n",
      "[ 0  1  2  3  4  5  6  7  8  9 10 11 12 13 14 15 16 17 18 19 20 21 22 23\n",
      " 24 25 26 27 28 29]\n"
     ]
    }
   ],
   "source": [
    "# hdf5_path = \"/project/cq-training-1/project1/data/16bit-2014.01.01.0800.h5\"\n",
    "hdf5_path = \"/home/ryan/data/16bit-2014.01.01.0800.h5\"\n",
    "\n",
    "hdf5_offset = 32  # this would correspond to: 2010.06.01.0800 + (32)*15min = 2010.06.01.1600\n",
    "with h5py.File(hdf5_path, \"r\") as h5_data:\n",
    "    print(list(h5_data.keys()))\n",
    "    for data_set in enumerate(h5_data.items()):\n",
    "        print(data_set)\n",
    "    print(h5_data['BND_GHI'][:30])\n",
    "    print(h5_data['BND_GHI_LUT'][:30])"
   ]
  },
  {
   "cell_type": "code",
   "execution_count": 18,
   "metadata": {},
   "outputs": [
    {
     "ename": "TypeError",
     "evalue": "Not a location id (invalid object ID)",
     "output_type": "error",
     "traceback": [
      "\u001b[0;31m---------------------------------------------------------------------------\u001b[0m",
      "\u001b[0;31mTypeError\u001b[0m                                 Traceback (most recent call last)",
      "\u001b[0;32m<ipython-input-18-d464a68d09f2>\u001b[0m in \u001b[0;36m<module>\u001b[0;34m\u001b[0m\n\u001b[0;32m----> 1\u001b[0;31m \u001b[0mlist\u001b[0m\u001b[0;34m(\u001b[0m\u001b[0mh5_data\u001b[0m\u001b[0;34m.\u001b[0m\u001b[0mkeys\u001b[0m\u001b[0;34m(\u001b[0m\u001b[0;34m)\u001b[0m\u001b[0;34m)\u001b[0m\u001b[0;34m\u001b[0m\u001b[0;34m\u001b[0m\u001b[0m\n\u001b[0m",
      "\u001b[0;32m~/projects/Solar-Irradiance-Prediction-team07/solar_env/lib/python3.7/_collections_abc.py\u001b[0m in \u001b[0;36m__iter__\u001b[0;34m(self)\u001b[0m\n\u001b[1;32m    718\u001b[0m \u001b[0;34m\u001b[0m\u001b[0m\n\u001b[1;32m    719\u001b[0m     \u001b[0;32mdef\u001b[0m \u001b[0m__iter__\u001b[0m\u001b[0;34m(\u001b[0m\u001b[0mself\u001b[0m\u001b[0;34m)\u001b[0m\u001b[0;34m:\u001b[0m\u001b[0;34m\u001b[0m\u001b[0;34m\u001b[0m\u001b[0m\n\u001b[0;32m--> 720\u001b[0;31m         \u001b[0;32myield\u001b[0m \u001b[0;32mfrom\u001b[0m \u001b[0mself\u001b[0m\u001b[0;34m.\u001b[0m\u001b[0m_mapping\u001b[0m\u001b[0;34m\u001b[0m\u001b[0;34m\u001b[0m\u001b[0m\n\u001b[0m\u001b[1;32m    721\u001b[0m \u001b[0;34m\u001b[0m\u001b[0m\n\u001b[1;32m    722\u001b[0m \u001b[0mKeysView\u001b[0m\u001b[0;34m.\u001b[0m\u001b[0mregister\u001b[0m\u001b[0;34m(\u001b[0m\u001b[0mdict_keys\u001b[0m\u001b[0;34m)\u001b[0m\u001b[0;34m\u001b[0m\u001b[0;34m\u001b[0m\u001b[0m\n",
      "\u001b[0;32m~/projects/Solar-Irradiance-Prediction-team07/solar_env/lib/python3.7/site-packages/h5py/_hl/group.py\u001b[0m in \u001b[0;36m__iter__\u001b[0;34m(self)\u001b[0m\n\u001b[1;32m    407\u001b[0m     \u001b[0;32mdef\u001b[0m \u001b[0m__iter__\u001b[0m\u001b[0;34m(\u001b[0m\u001b[0mself\u001b[0m\u001b[0;34m)\u001b[0m\u001b[0;34m:\u001b[0m\u001b[0;34m\u001b[0m\u001b[0;34m\u001b[0m\u001b[0m\n\u001b[1;32m    408\u001b[0m         \u001b[0;34m\"\"\" Iterate over member names \"\"\"\u001b[0m\u001b[0;34m\u001b[0m\u001b[0;34m\u001b[0m\u001b[0m\n\u001b[0;32m--> 409\u001b[0;31m         \u001b[0;32mfor\u001b[0m \u001b[0mx\u001b[0m \u001b[0;32min\u001b[0m \u001b[0mself\u001b[0m\u001b[0;34m.\u001b[0m\u001b[0mid\u001b[0m\u001b[0;34m.\u001b[0m\u001b[0m__iter__\u001b[0m\u001b[0;34m(\u001b[0m\u001b[0;34m)\u001b[0m\u001b[0;34m:\u001b[0m\u001b[0;34m\u001b[0m\u001b[0;34m\u001b[0m\u001b[0m\n\u001b[0m\u001b[1;32m    410\u001b[0m             \u001b[0;32myield\u001b[0m \u001b[0mself\u001b[0m\u001b[0;34m.\u001b[0m\u001b[0m_d\u001b[0m\u001b[0;34m(\u001b[0m\u001b[0mx\u001b[0m\u001b[0;34m)\u001b[0m\u001b[0;34m\u001b[0m\u001b[0;34m\u001b[0m\u001b[0m\n\u001b[1;32m    411\u001b[0m \u001b[0;34m\u001b[0m\u001b[0m\n",
      "\u001b[0;32mh5py/h5g.pyx\u001b[0m in \u001b[0;36mh5py.h5g.GroupID.__iter__\u001b[0;34m()\u001b[0m\n",
      "\u001b[0;32mh5py/h5g.pyx\u001b[0m in \u001b[0;36mh5py.h5g.GroupID.__iter__\u001b[0;34m()\u001b[0m\n",
      "\u001b[0;32mh5py/h5g.pyx\u001b[0m in \u001b[0;36mh5py.h5g.GroupIter.__init__\u001b[0;34m()\u001b[0m\n",
      "\u001b[0;32mh5py/_objects.pyx\u001b[0m in \u001b[0;36mh5py._objects.with_phil.wrapper\u001b[0;34m()\u001b[0m\n",
      "\u001b[0;32mh5py/_objects.pyx\u001b[0m in \u001b[0;36mh5py._objects.with_phil.wrapper\u001b[0;34m()\u001b[0m\n",
      "\u001b[0;32mh5py/h5g.pyx\u001b[0m in \u001b[0;36mh5py.h5g.GroupID.get_num_objs\u001b[0;34m()\u001b[0m\n",
      "\u001b[0;31mTypeError\u001b[0m: Not a location id (invalid object ID)"
     ]
    }
   ],
   "source": [
    "list(h5_data.keys())"
   ]
  },
  {
   "cell_type": "code",
   "execution_count": null,
   "metadata": {},
   "outputs": [],
   "source": [
    "target_channels = [\"ch1\", \"ch2\", \"ch3\", \"ch4\", \"ch5\"]\n",
    "dataframe_path = \"/home/ryan/data/catalog.helios.public.20100101-20160101.pkl\""
   ]
  },
  {
   "cell_type": "code",
   "execution_count": null,
   "metadata": {},
   "outputs": [],
   "source": [
    "df = pd.read_pickle(dataframe_path) if dataframe_path else None"
   ]
  },
  {
   "cell_type": "code",
   "execution_count": null,
   "metadata": {},
   "outputs": [],
   "source": [
    "print(*df.columns.to_list(), sep=\"\\n\")"
   ]
  },
  {
   "cell_type": "code",
   "execution_count": null,
   "metadata": {},
   "outputs": [],
   "source": [
    "df2=df[df.ncdf_path != 'nan']"
   ]
  },
  {
   "cell_type": "code",
   "execution_count": null,
   "metadata": {},
   "outputs": [],
   "source": [
    "offsets = sorted(df2.hdf5_16bit_offset.unique())"
   ]
  },
  {
   "cell_type": "code",
   "execution_count": null,
   "metadata": {},
   "outputs": [],
   "source": [
    "print(offsets)\n",
    "print(\"The len of offsets list:\", len(offsets))"
   ]
  },
  {
   "cell_type": "code",
   "execution_count": null,
   "metadata": {},
   "outputs": [],
   "source": [
    "df2.head(10).iloc[:,:5]"
   ]
  },
  {
   "cell_type": "markdown",
   "metadata": {},
   "source": [
    "from datatime -> file -> offset -> get images -> samples -> batches...."
   ]
  },
  {
   "cell_type": "code",
   "execution_count": null,
   "metadata": {},
   "outputs": [],
   "source": [
    "df2.head(10)"
   ]
  }
 ],
 "metadata": {
  "kernelspec": {
   "display_name": "Python 3",
   "language": "python",
   "name": "python3"
  },
  "language_info": {
   "codemirror_mode": {
    "name": "ipython",
    "version": 3
   },
   "file_extension": ".py",
   "mimetype": "text/x-python",
   "name": "python",
   "nbconvert_exporter": "python",
   "pygments_lexer": "ipython3",
   "version": "3.7.5"
  }
 },
 "nbformat": 4,
 "nbformat_minor": 4
}
